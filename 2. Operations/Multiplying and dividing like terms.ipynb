{
 "cells": [
  {
   "cell_type": "code",
   "execution_count": 3,
   "id": "7be43378",
   "metadata": {},
   "outputs": [],
   "source": [
    "import sympy as sp\n",
    "sp.init_printing()\n",
    "from sympy import *"
   ]
  },
  {
   "cell_type": "markdown",
   "id": "b9ee002f",
   "metadata": {},
   "source": [
    "***Multiplying Like Terms:*** When you multiply like terms (terms with the same base), follow these rules:\n",
    "* Multiply the coefficients (the numbers in front of the variables).\n",
    "* Add the exponents (if the variables have the same base).         \n",
    "For example:         \n",
    "(4x<sup>2</sup> 3x<sup>5</sup>) becomes (4 * 3 x<sup>{2+5}</sup>), which simplifies to (12x<sup>7</sup>)."
   ]
  },
  {
   "cell_type": "markdown",
   "id": "98199c44",
   "metadata": {},
   "source": [
    "***Dividing Like Terms:*** When you divide like terms, follow these rules:\n",
    "* Divide the coefficients.\n",
    "* Subtract the exponents (or “cancel” them, which means the same thing).\n",
    "For example:                  \n",
    "For example:      \n",
    "(4x<sup>3</sup>)/2x becomes 4/2 x<sup>{3-1}</sup>), which simplifies to (2x<sup>2</sup>)."
   ]
  },
  {
   "cell_type": "markdown",
   "id": "46a698f8",
   "metadata": {},
   "source": [
    "***Combining Like Terms:*** To simplify expressions by combining like terms, follow these steps:      \n",
    "* Distribute any coefficients to all terms inside parentheses.   \n",
    "* Combine like terms (terms with the same variable and exponent).   \n",
    "Example:        \n",
    "x + 2x = 3x "
   ]
  },
  {
   "cell_type": "markdown",
   "id": "42ad31fa",
   "metadata": {},
   "source": [
    "### Example 6x * 5x = 30x <sup>2</sup>"
   ]
  },
  {
   "cell_type": "code",
   "execution_count": 5,
   "id": "04d1891f",
   "metadata": {},
   "outputs": [],
   "source": [
    "x = symbols(\"x\")"
   ]
  },
  {
   "cell_type": "code",
   "execution_count": 6,
   "id": "c3d04aa9",
   "metadata": {},
   "outputs": [
    {
     "data": {
      "image/png": "[encoded data removed]",
      "text/latex": [
       "$\\displaystyle 30 x^{2}$"
      ],
      "text/plain": [
       "    2\n",
       "30⋅x "
      ]
     },
     "execution_count": 6,
     "metadata": {},
     "output_type": "execute_result"
    }
   ],
   "source": [
    "expr = (6*x)*(5*x)\n",
    "expr"
   ]
  },
  {
   "cell_type": "markdown",
   "id": "2189ad87",
   "metadata": {},
   "source": [
    "### Example 16y<sup>7</sup>/8y<sup>4</sup> = 2y<sup>3</sup>"
   ]
  },
  {
   "cell_type": "code",
   "execution_count": 7,
   "id": "56169ea4",
   "metadata": {},
   "outputs": [],
   "source": [
    "y = symbols(\"y\")"
   ]
  },
  {
   "cell_type": "code",
   "execution_count": 9,
   "id": "3fb7d8d3",
   "metadata": {},
   "outputs": [
    {
     "data": {
      "image/png": "[encoded data removed]",
      "text/latex": [
       "$\\displaystyle 2 y^{3}$"
      ],
      "text/plain": [
       "   3\n",
       "2⋅y "
      ]
     },
     "execution_count": 9,
     "metadata": {},
     "output_type": "execute_result"
    }
   ],
   "source": [
    "expr = (16*y**7)/(8*y**4)\n",
    "expr"
   ]
  },
  {
   "cell_type": "markdown",
   "id": "e9c0f614",
   "metadata": {},
   "source": [
    "### Example 5t<sup>2</sup>+6t<sup>2</sup>=11t<sup>2</sup>"
   ]
  },
  {
   "cell_type": "code",
   "execution_count": 10,
   "id": "4a6e9c5b",
   "metadata": {},
   "outputs": [],
   "source": [
    "t = symbols(\"t\")"
   ]
  },
  {
   "cell_type": "code",
   "execution_count": 14,
   "id": "3f79bbc0",
   "metadata": {},
   "outputs": [
    {
     "data": {
      "image/png": "[encoded data removed]",
      "text/latex": [
       "$\\displaystyle 11 t^{2}$"
      ],
      "text/plain": [
       "    2\n",
       "11⋅t "
      ]
     },
     "execution_count": 14,
     "metadata": {},
     "output_type": "execute_result"
    }
   ],
   "source": [
    "expr = (5*t**2)+(6*t**2)\n",
    "expr"
   ]
  },
  {
   "cell_type": "code",
   "execution_count": null,
   "id": "b01608ef",
   "metadata": {},
   "outputs": [],
   "source": []
  }
 ],
 "metadata": {
  "kernelspec": {
   "display_name": "Python 3",
   "language": "python",
   "name": "python3"
  },
  "language_info": {
   "codemirror_mode": {
    "name": "ipython",
    "version": 3
   },
   "file_extension": ".py",
   "mimetype": "text/x-python",
   "name": "python",
   "nbconvert_exporter": "python",
   "pygments_lexer": "ipython3",
   "version": "3.8.8"
  }
 },
 "nbformat": 4,
 "nbformat_minor": 5
}
